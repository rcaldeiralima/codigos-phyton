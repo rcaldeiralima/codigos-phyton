{
 "cells": [
  {
   "cell_type": "markdown",
   "metadata": {},
   "source": [
    "Módulo 2"
   ]
  },
  {
   "cell_type": "markdown",
   "metadata": {},
   "source": [
    "Exercício 1"
   ]
  },
  {
   "cell_type": "code",
   "execution_count": 1,
   "metadata": {
    "scrolled": true
   },
   "outputs": [
    {
     "name": "stdout",
     "output_type": "stream",
     "text": [
      "Pedro João 37 48\n"
     ]
    },
    {
     "data": {
      "text/plain": [
       "(str, str, int, int)"
      ]
     },
     "execution_count": 1,
     "metadata": {},
     "output_type": "execute_result"
    }
   ],
   "source": [
    "#Declaração de variáveis\n",
    "\n",
    "a = \"Pedro\"\n",
    "b = \"João\"\n",
    "c = 37\n",
    "d = 48\n",
    "\n",
    "print(a,b,c,d)\n",
    "type(a),type(b),type(c),type(d)"
   ]
  },
  {
   "cell_type": "code",
   "execution_count": 2,
   "metadata": {},
   "outputs": [
    {
     "name": "stdout",
     "output_type": "stream",
     "text": [
      "False\n"
     ]
    }
   ],
   "source": [
    "#Verificação de igualdade\n",
    "\n",
    "print(a==b)"
   ]
  },
  {
   "cell_type": "code",
   "execution_count": 3,
   "metadata": {},
   "outputs": [
    {
     "name": "stdout",
     "output_type": "stream",
     "text": [
      "1\n",
      "11\n"
     ]
    }
   ],
   "source": [
    "#Divisão de variáveis numéricas\n",
    "\n",
    "#Parte inteira\n",
    "print(d//c)\n",
    "\n",
    "#Resto da divisão\n",
    "print(d%c)"
   ]
  },
  {
   "cell_type": "markdown",
   "metadata": {},
   "source": [
    "Exercício 2"
   ]
  },
  {
   "cell_type": "code",
   "execution_count": 4,
   "metadata": {
    "scrolled": true
   },
   "outputs": [
    {
     "data": {
      "text/plain": [
       "list"
      ]
     },
     "execution_count": 4,
     "metadata": {},
     "output_type": "execute_result"
    }
   ],
   "source": [
    "#Declaração da lista\n",
    "\n",
    "lista_amigos = [\"Rafael\", \"Paula\", \"Rômulo\", \"Marianna\", \"Paula\", \"Aline\", \"Diogo\", \"Jannayna\", \"Mário\"]\n",
    "\n",
    "type(lista_amigos)"
   ]
  },
  {
   "cell_type": "code",
   "execution_count": 5,
   "metadata": {},
   "outputs": [
    {
     "name": "stdout",
     "output_type": "stream",
     "text": [
      "['Rafael', 'Paula', 'Rômulo', 'Marianna', 'Paula', 'Aline', 'Diogo', 'Jannayna', 'Mário']\n",
      "{'Marianna', 'Rafael', 'Diogo', 'Paula', 'Mário', 'Aline', 'Rômulo', 'Jannayna'}\n"
     ]
    }
   ],
   "source": [
    "#Conversão de lista para conjunto\n",
    "\n",
    "lista_amigos = [\"Rafael\", \"Paula\", \"Rômulo\", \"Marianna\", \"Paula\", \"Aline\", \"Diogo\", \"Jannayna\", \"Mário\"]\n",
    "\n",
    "print(lista_amigos)\n",
    "\n",
    "print(set(lista_amigos))"
   ]
  },
  {
   "cell_type": "code",
   "execution_count": 6,
   "metadata": {},
   "outputs": [
    {
     "name": "stdout",
     "output_type": "stream",
     "text": [
      "9\n",
      "8\n"
     ]
    }
   ],
   "source": [
    "#Tamanho da lista e do conjunto\n",
    "\n",
    "print(len(lista_amigos))\n",
    "\n",
    "print(len(set(lista_amigos)))"
   ]
  },
  {
   "cell_type": "markdown",
   "metadata": {},
   "source": [
    "Exercício 3"
   ]
  },
  {
   "cell_type": "code",
   "execution_count": 89,
   "metadata": {},
   "outputs": [],
   "source": [
    "#Criação do dicionário\n",
    "\n",
    "Dicionário_cliente_produto = dict(cliente_produto)\n",
    "\n",
    "#Primeiro Cliente e produtos\n",
    "\n",
    "cliente_produto = {\"Gabriela\":\"Camiseta, Calça, Casaco\"}"
   ]
  },
  {
   "cell_type": "code",
   "execution_count": 90,
   "metadata": {},
   "outputs": [
    {
     "data": {
      "text/plain": [
       "{'Gabriela': 'Camiseta, Calça, Casaco'}"
      ]
     },
     "execution_count": 90,
     "metadata": {},
     "output_type": "execute_result"
    }
   ],
   "source": [
    "cliente_produto"
   ]
  },
  {
   "cell_type": "code",
   "execution_count": 91,
   "metadata": {},
   "outputs": [],
   "source": [
    "#Segundo Cliente e produtos\n",
    "\n",
    "cliente_produto.update({\"Genésio\":\"Shorts, Meia\"})"
   ]
  },
  {
   "cell_type": "code",
   "execution_count": 92,
   "metadata": {},
   "outputs": [
    {
     "data": {
      "text/plain": [
       "{'Gabriela': 'Camiseta, Calça, Casaco', 'Genésio': 'Shorts, Meia'}"
      ]
     },
     "execution_count": 92,
     "metadata": {},
     "output_type": "execute_result"
    }
   ],
   "source": [
    "cliente_produto"
   ]
  },
  {
   "cell_type": "code",
   "execution_count": 93,
   "metadata": {},
   "outputs": [],
   "source": [
    "#Terceiro Cliente e produtos\n",
    "\n",
    "cliente_produto.update({\"Mônica\":\"Calcinha, Pijamas\"})"
   ]
  },
  {
   "cell_type": "code",
   "execution_count": 94,
   "metadata": {},
   "outputs": [
    {
     "name": "stdout",
     "output_type": "stream",
     "text": [
      "{'Gabriela': 'Camiseta, Calça, Casaco', 'Genésio': 'Shorts, Meia', 'Mônica': 'Calcinha, Pijamas'}\n"
     ]
    }
   ],
   "source": [
    "print(cliente_produto)"
   ]
  },
  {
   "cell_type": "code",
   "execution_count": 95,
   "metadata": {},
   "outputs": [
    {
     "name": "stdout",
     "output_type": "stream",
     "text": [
      "{'Gabriela': 'Camiseta, Calça, Casaco', 'Genésio': 'Shorts, Meia', 'Mônica': 'Calcinha, Pijamas'}\n"
     ]
    }
   ],
   "source": [
    "print(Dicionário_cliente_produto)"
   ]
  },
  {
   "cell_type": "code",
   "execution_count": 96,
   "metadata": {},
   "outputs": [
    {
     "name": "stdout",
     "output_type": "stream",
     "text": [
      "['Gabriela', 'Genésio', 'Mônica']\n",
      "['Camiseta, Calça, Casaco', 'Shorts, Meia', 'Calcinha, Pijamas']\n"
     ]
    }
   ],
   "source": [
    "#Criando dicionário a partir de duas listas\n",
    "\n",
    "cliente = [\"Gabriela\", \"Genésio\", \"Mônica\"]\n",
    "produto = [\"Camiseta, Calça, Casaco\", \"Shorts, Meia\", \"Calcinha, Pijamas\"]\n",
    "\n",
    "print(cliente)\n",
    "print(produto)"
   ]
  },
  {
   "cell_type": "code",
   "execution_count": 97,
   "metadata": {},
   "outputs": [
    {
     "data": {
      "text/plain": [
       "[('Gabriela', 'Camiseta, Calça, Casaco'),\n",
       " ('Genésio', 'Shorts, Meia'),\n",
       " ('Mônica', 'Calcinha, Pijamas')]"
      ]
     },
     "execution_count": 97,
     "metadata": {},
     "output_type": "execute_result"
    }
   ],
   "source": [
    "cliente_produto2 = list(zip(cliente, produto)); cliente_produto2"
   ]
  },
  {
   "cell_type": "code",
   "execution_count": 98,
   "metadata": {},
   "outputs": [
    {
     "name": "stdout",
     "output_type": "stream",
     "text": [
      "{'Gabriela': 'Camiseta, Calça, Casaco', 'Genésio': 'Shorts, Meia', 'Mônica': 'Calcinha, Pijamas'}\n"
     ]
    }
   ],
   "source": [
    "Dicionário_cliente_produto2 = dict(cliente_produto2)\n",
    "print(Dicionário_cliente_produto)"
   ]
  },
  {
   "cell_type": "code",
   "execution_count": 99,
   "metadata": {},
   "outputs": [
    {
     "data": {
      "text/plain": [
       "True"
      ]
     },
     "execution_count": 99,
     "metadata": {},
     "output_type": "execute_result"
    }
   ],
   "source": [
    "Dicionário_cliente_produto == Dicionário_cliente_produto2"
   ]
  }
 ],
 "metadata": {
  "kernelspec": {
   "display_name": "Python 3",
   "language": "python",
   "name": "python3"
  },
  "language_info": {
   "codemirror_mode": {
    "name": "ipython",
    "version": 3
   },
   "file_extension": ".py",
   "mimetype": "text/x-python",
   "name": "python",
   "nbconvert_exporter": "python",
   "pygments_lexer": "ipython3",
   "version": "3.8.5"
  }
 },
 "nbformat": 4,
 "nbformat_minor": 4
}
